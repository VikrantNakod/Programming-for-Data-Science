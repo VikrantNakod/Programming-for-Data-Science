{
 "cells": [
  {
   "cell_type": "markdown",
   "metadata": {},
   "source": [
    "# Assignment 2 (Solution)\n",
    "## Programming for Data Science (BUAN 6340)\n",
    "\n",
    "### <font color='red'>Due Date: Oct 20, 2019 11:59pm</font> "
   ]
  },
  {
   "cell_type": "markdown",
   "metadata": {},
   "source": [
    "Deliverables:\n",
    "\n",
    "- Write down your codes in the given cells described in this file, denoted as \"YOUR CODES\"\n",
    "- Use \"download as\" in the \"file\" menu to convert your ipython file to a .html file\n",
    "- Submit both .ipynb and .html files to the eLearning (you might need to compress them into one single file)\n",
    "\n",
    "\n",
    "This assignment covers data manipulation and visualization\n",
    "\n",
    "\n",
    "The total score: 100"
   ]
  },
  {
   "cell_type": "code",
   "execution_count": 1,
   "metadata": {},
   "outputs": [],
   "source": [
    "NAME = \"Vikrant Nakod\"\n",
    "Session = \"BUAN6340.501 Fri 7:00pm-9:45pm\""
   ]
  },
  {
   "cell_type": "markdown",
   "metadata": {},
   "source": [
    "In this assignment, we will explore an economic indicator [dataset](https://www.kaggle.com/worldbank/world-development-indicators). \n",
    "\n",
    "Please downloand **indicator.csv** from eLearning."
   ]
  },
  {
   "cell_type": "code",
   "execution_count": 2,
   "metadata": {},
   "outputs": [],
   "source": [
    "import numpy as np\n",
    "import pandas as pd\n",
    "import matplotlib.pyplot as plt"
   ]
  },
  {
   "cell_type": "code",
   "execution_count": 3,
   "metadata": {},
   "outputs": [
    {
     "data": {
      "text/plain": [
       "(5656458, 6)"
      ]
     },
     "execution_count": 3,
     "metadata": {},
     "output_type": "execute_result"
    }
   ],
   "source": [
    "#Import data\n",
    "world = pd.read_csv('Indicators.csv')\n",
    "world.shape"
   ]
  },
  {
   "cell_type": "code",
   "execution_count": 4,
   "metadata": {},
   "outputs": [
    {
     "data": {
      "text/html": [
       "<div>\n",
       "<style scoped>\n",
       "    .dataframe tbody tr th:only-of-type {\n",
       "        vertical-align: middle;\n",
       "    }\n",
       "\n",
       "    .dataframe tbody tr th {\n",
       "        vertical-align: top;\n",
       "    }\n",
       "\n",
       "    .dataframe thead th {\n",
       "        text-align: right;\n",
       "    }\n",
       "</style>\n",
       "<table border=\"1\" class=\"dataframe\">\n",
       "  <thead>\n",
       "    <tr style=\"text-align: right;\">\n",
       "      <th></th>\n",
       "      <th>CountryName</th>\n",
       "      <th>CountryCode</th>\n",
       "      <th>IndicatorName</th>\n",
       "      <th>IndicatorCode</th>\n",
       "      <th>Year</th>\n",
       "      <th>Value</th>\n",
       "    </tr>\n",
       "  </thead>\n",
       "  <tbody>\n",
       "    <tr>\n",
       "      <th>0</th>\n",
       "      <td>Arab World</td>\n",
       "      <td>ARB</td>\n",
       "      <td>Adolescent fertility rate (births per 1,000 wo...</td>\n",
       "      <td>SP.ADO.TFRT</td>\n",
       "      <td>1960</td>\n",
       "      <td>1.335609e+02</td>\n",
       "    </tr>\n",
       "    <tr>\n",
       "      <th>1</th>\n",
       "      <td>Arab World</td>\n",
       "      <td>ARB</td>\n",
       "      <td>Age dependency ratio (% of working-age populat...</td>\n",
       "      <td>SP.POP.DPND</td>\n",
       "      <td>1960</td>\n",
       "      <td>8.779760e+01</td>\n",
       "    </tr>\n",
       "    <tr>\n",
       "      <th>2</th>\n",
       "      <td>Arab World</td>\n",
       "      <td>ARB</td>\n",
       "      <td>Age dependency ratio, old (% of working-age po...</td>\n",
       "      <td>SP.POP.DPND.OL</td>\n",
       "      <td>1960</td>\n",
       "      <td>6.634579e+00</td>\n",
       "    </tr>\n",
       "    <tr>\n",
       "      <th>3</th>\n",
       "      <td>Arab World</td>\n",
       "      <td>ARB</td>\n",
       "      <td>Age dependency ratio, young (% of working-age ...</td>\n",
       "      <td>SP.POP.DPND.YG</td>\n",
       "      <td>1960</td>\n",
       "      <td>8.102333e+01</td>\n",
       "    </tr>\n",
       "    <tr>\n",
       "      <th>4</th>\n",
       "      <td>Arab World</td>\n",
       "      <td>ARB</td>\n",
       "      <td>Arms exports (SIPRI trend indicator values)</td>\n",
       "      <td>MS.MIL.XPRT.KD</td>\n",
       "      <td>1960</td>\n",
       "      <td>3.000000e+06</td>\n",
       "    </tr>\n",
       "  </tbody>\n",
       "</table>\n",
       "</div>"
      ],
      "text/plain": [
       "  CountryName CountryCode                                      IndicatorName  \\\n",
       "0  Arab World         ARB  Adolescent fertility rate (births per 1,000 wo...   \n",
       "1  Arab World         ARB  Age dependency ratio (% of working-age populat...   \n",
       "2  Arab World         ARB  Age dependency ratio, old (% of working-age po...   \n",
       "3  Arab World         ARB  Age dependency ratio, young (% of working-age ...   \n",
       "4  Arab World         ARB        Arms exports (SIPRI trend indicator values)   \n",
       "\n",
       "    IndicatorCode  Year         Value  \n",
       "0     SP.ADO.TFRT  1960  1.335609e+02  \n",
       "1     SP.POP.DPND  1960  8.779760e+01  \n",
       "2  SP.POP.DPND.OL  1960  6.634579e+00  \n",
       "3  SP.POP.DPND.YG  1960  8.102333e+01  \n",
       "4  MS.MIL.XPRT.KD  1960  3.000000e+06  "
      ]
     },
     "execution_count": 4,
     "metadata": {},
     "output_type": "execute_result"
    }
   ],
   "source": [
    "world.head()"
   ]
  },
  {
   "cell_type": "markdown",
   "metadata": {},
   "source": [
    "## Part I: Initial Exploration (18 points)"
   ]
  },
  {
   "cell_type": "markdown",
   "metadata": {},
   "source": [
    "**Use <font color='red'>one or two</font> lines to answer each of the following <font color='red'>FIVE</font> questions**\n",
    "\n",
    "Hint: https://pandas.pydata.org/pandas-docs/stable/reference/api/pandas.unique.html"
   ]
  },
  {
   "cell_type": "markdown",
   "metadata": {},
   "source": [
    "**Q1.1** How many UNIQUE country names are there? (3 points)"
   ]
  },
  {
   "cell_type": "code",
   "execution_count": 14,
   "metadata": {},
   "outputs": [
    {
     "name": "stdout",
     "output_type": "stream",
     "text": [
      "Unique country count = 247 \n"
     ]
    }
   ],
   "source": [
    "# YOUR CODES\n",
    "\n",
    "\n",
    "print(\"Unique country count = {} \".format(len(world['CountryName'].unique().tolist())))"
   ]
  },
  {
   "cell_type": "markdown",
   "metadata": {},
   "source": [
    "**Q1.2** How many years of data do we have? (3 points)"
   ]
  },
  {
   "cell_type": "code",
   "execution_count": 13,
   "metadata": {},
   "outputs": [
    {
     "data": {
      "text/plain": [
       "56"
      ]
     },
     "execution_count": 13,
     "metadata": {},
     "output_type": "execute_result"
    }
   ],
   "source": [
    "# YOUR CODES\n",
    "\n",
    "years_data = world['Year'].unique().tolist()\n",
    "len(years_data)\n"
   ]
  },
  {
   "cell_type": "markdown",
   "metadata": {},
   "source": [
    "**Q1.3** What's the range of years? (3 points)"
   ]
  },
  {
   "cell_type": "code",
   "execution_count": 5,
   "metadata": {},
   "outputs": [
    {
     "name": "stdout",
     "output_type": "stream",
     "text": [
      "Year range = 1960 to 2015\n"
     ]
    }
   ],
   "source": [
    "# YOUR CODES\n",
    "\n",
    "\n",
    "print(\"Year range = {} to {}\".format(min_year,max_year))"
   ]
  },
  {
   "cell_type": "markdown",
   "metadata": {},
   "source": [
    "**Q1.4** How many unique indicators? (3 points)"
   ]
  },
  {
   "cell_type": "code",
   "execution_count": 12,
   "metadata": {},
   "outputs": [
    {
     "name": "stdout",
     "output_type": "stream",
     "text": [
      "Unique indicators count = 1344 \n"
     ]
    }
   ],
   "source": [
    "# YOUR CODES\n",
    "\n",
    "\n",
    "print(\"Unique indicators count = {} \".format(len(world['IndicatorName'].unique().tolist())))"
   ]
  },
  {
   "cell_type": "markdown",
   "metadata": {},
   "source": [
    "**Q1.5** How many unique indiactors does United States have in 2000? (6 points)"
   ]
  },
  {
   "cell_type": "code",
   "execution_count": 11,
   "metadata": {},
   "outputs": [
    {
     "name": "stdout",
     "output_type": "stream",
     "text": [
      "Unique Indicators count for USA = 646 \n"
     ]
    }
   ],
   "source": [
    "# YOUR CODES\n",
    "\n",
    "USAin2000 = world[(world['CountryName'] == 'United States') & (world['Year']== 2000)]\n",
    "print(\"Unique Indicators count for USA = {} \".format(len(USAin2000['IndicatorName'].unique())))"
   ]
  },
  {
   "cell_type": "markdown",
   "metadata": {},
   "source": [
    "## Part II: Visualizaion (60 points)"
   ]
  },
  {
   "cell_type": "markdown",
   "metadata": {},
   "source": [
    "### Let's pick a country and an indicator to explore: CO2 Emissions per capita and the USA\n",
    "\n",
    "**Q2.1** Create a new dataframe where country = United State & Indicator =  'CO2 emissions (metric tons per capita)' (10 points)\n",
    "\n",
    "Expected output: size of the dataframe and the first 5 lines of the dataframe"
   ]
  },
  {
   "cell_type": "code",
   "execution_count": 6,
   "metadata": {},
   "outputs": [
    {
     "data": {
      "text/html": [
       "<div>\n",
       "<style scoped>\n",
       "    .dataframe tbody tr th:only-of-type {\n",
       "        vertical-align: middle;\n",
       "    }\n",
       "\n",
       "    .dataframe tbody tr th {\n",
       "        vertical-align: top;\n",
       "    }\n",
       "\n",
       "    .dataframe thead th {\n",
       "        text-align: right;\n",
       "    }\n",
       "</style>\n",
       "<table border=\"1\" class=\"dataframe\">\n",
       "  <thead>\n",
       "    <tr style=\"text-align: right;\">\n",
       "      <th></th>\n",
       "      <th>CountryName</th>\n",
       "      <th>CountryCode</th>\n",
       "      <th>IndicatorName</th>\n",
       "      <th>IndicatorCode</th>\n",
       "      <th>Year</th>\n",
       "      <th>Value</th>\n",
       "    </tr>\n",
       "  </thead>\n",
       "  <tbody>\n",
       "    <tr>\n",
       "      <th>22232</th>\n",
       "      <td>United States</td>\n",
       "      <td>USA</td>\n",
       "      <td>CO2 emissions (metric tons per capita)</td>\n",
       "      <td>EN.ATM.CO2E.PC</td>\n",
       "      <td>1960</td>\n",
       "      <td>15.999779</td>\n",
       "    </tr>\n",
       "    <tr>\n",
       "      <th>48708</th>\n",
       "      <td>United States</td>\n",
       "      <td>USA</td>\n",
       "      <td>CO2 emissions (metric tons per capita)</td>\n",
       "      <td>EN.ATM.CO2E.PC</td>\n",
       "      <td>1961</td>\n",
       "      <td>15.681256</td>\n",
       "    </tr>\n",
       "    <tr>\n",
       "      <th>77087</th>\n",
       "      <td>United States</td>\n",
       "      <td>USA</td>\n",
       "      <td>CO2 emissions (metric tons per capita)</td>\n",
       "      <td>EN.ATM.CO2E.PC</td>\n",
       "      <td>1962</td>\n",
       "      <td>16.013937</td>\n",
       "    </tr>\n",
       "    <tr>\n",
       "      <th>105704</th>\n",
       "      <td>United States</td>\n",
       "      <td>USA</td>\n",
       "      <td>CO2 emissions (metric tons per capita)</td>\n",
       "      <td>EN.ATM.CO2E.PC</td>\n",
       "      <td>1963</td>\n",
       "      <td>16.482762</td>\n",
       "    </tr>\n",
       "    <tr>\n",
       "      <th>134742</th>\n",
       "      <td>United States</td>\n",
       "      <td>USA</td>\n",
       "      <td>CO2 emissions (metric tons per capita)</td>\n",
       "      <td>EN.ATM.CO2E.PC</td>\n",
       "      <td>1964</td>\n",
       "      <td>16.968119</td>\n",
       "    </tr>\n",
       "  </tbody>\n",
       "</table>\n",
       "</div>"
      ],
      "text/plain": [
       "          CountryName CountryCode                           IndicatorName  \\\n",
       "22232   United States         USA  CO2 emissions (metric tons per capita)   \n",
       "48708   United States         USA  CO2 emissions (metric tons per capita)   \n",
       "77087   United States         USA  CO2 emissions (metric tons per capita)   \n",
       "105704  United States         USA  CO2 emissions (metric tons per capita)   \n",
       "134742  United States         USA  CO2 emissions (metric tons per capita)   \n",
       "\n",
       "         IndicatorCode  Year      Value  \n",
       "22232   EN.ATM.CO2E.PC  1960  15.999779  \n",
       "48708   EN.ATM.CO2E.PC  1961  15.681256  \n",
       "77087   EN.ATM.CO2E.PC  1962  16.013937  \n",
       "105704  EN.ATM.CO2E.PC  1963  16.482762  \n",
       "134742  EN.ATM.CO2E.PC  1964  16.968119  "
      ]
     },
     "execution_count": 6,
     "metadata": {},
     "output_type": "execute_result"
    }
   ],
   "source": [
    "# YOUR CODES\n",
    "\n",
    "\n",
    "new_df1 = world[(world['CountryName'] == 'United States') & (world['IndicatorName'] == 'CO2 emissions (metric tons per capita)')]\n",
    "new_df1.head()\n",
    "\n",
    "\n"
   ]
  },
  {
   "cell_type": "markdown",
   "metadata": {},
   "source": [
    "**Q2.2** Plot the trend of CO2 emissions over time in USA (10 points)"
   ]
  },
  {
   "cell_type": "code",
   "execution_count": 9,
   "metadata": {},
   "outputs": [
    {
     "data": {
      "image/png": "[encoded data removed]",
      "text/plain": [
       "<Figure size 432x288 with 1 Axes>"
      ]
     },
     "metadata": {
      "needs_background": "light"
     },
     "output_type": "display_data"
    }
   ],
   "source": [
    "%matplotlib inline\n",
    "\n",
    "# YOUR CODES\n",
    "\n",
    "\n",
    "new_df1.plot(kind='scatter',x='Year',y='Value',color='red')\n",
    "plt.title('Trend of CO2 emissions over time in USA')\n",
    "plt.show()"
   ]
  },
  {
   "cell_type": "markdown",
   "metadata": {},
   "source": [
    "### But how do the USA's numbers relate to those of other countries?"
   ]
  },
  {
   "cell_type": "markdown",
   "metadata": {},
   "source": [
    "**Q2.3** (20 points)\n",
    "\n",
    "- select CO2 emissions per capital for all countries in 2011\n",
    "- plot a histogram of the emmissions per capita by country\n",
    "- indicate the position of USA in the plot\n"
   ]
  },
  {
   "cell_type": "code",
   "execution_count": 4,
   "metadata": {},
   "outputs": [
    {
     "data": {
      "text/html": [
       "<div>\n",
       "<style scoped>\n",
       "    .dataframe tbody tr th:only-of-type {\n",
       "        vertical-align: middle;\n",
       "    }\n",
       "\n",
       "    .dataframe tbody tr th {\n",
       "        vertical-align: top;\n",
       "    }\n",
       "\n",
       "    .dataframe thead th {\n",
       "        text-align: right;\n",
       "    }\n",
       "</style>\n",
       "<table border=\"1\" class=\"dataframe\">\n",
       "  <thead>\n",
       "    <tr style=\"text-align: right;\">\n",
       "      <th></th>\n",
       "      <th>CountryName</th>\n",
       "      <th>CountryCode</th>\n",
       "      <th>IndicatorName</th>\n",
       "      <th>IndicatorCode</th>\n",
       "      <th>Year</th>\n",
       "      <th>Value</th>\n",
       "    </tr>\n",
       "  </thead>\n",
       "  <tbody>\n",
       "    <tr>\n",
       "      <th>5026275</th>\n",
       "      <td>Arab World</td>\n",
       "      <td>ARB</td>\n",
       "      <td>CO2 emissions (metric tons per capita)</td>\n",
       "      <td>EN.ATM.CO2E.PC</td>\n",
       "      <td>2011</td>\n",
       "      <td>4.724500</td>\n",
       "    </tr>\n",
       "    <tr>\n",
       "      <th>5026788</th>\n",
       "      <td>Caribbean small states</td>\n",
       "      <td>CSS</td>\n",
       "      <td>CO2 emissions (metric tons per capita)</td>\n",
       "      <td>EN.ATM.CO2E.PC</td>\n",
       "      <td>2011</td>\n",
       "      <td>9.692960</td>\n",
       "    </tr>\n",
       "    <tr>\n",
       "      <th>5027295</th>\n",
       "      <td>Central Europe and the Baltics</td>\n",
       "      <td>CEB</td>\n",
       "      <td>CO2 emissions (metric tons per capita)</td>\n",
       "      <td>EN.ATM.CO2E.PC</td>\n",
       "      <td>2011</td>\n",
       "      <td>6.911131</td>\n",
       "    </tr>\n",
       "    <tr>\n",
       "      <th>5027870</th>\n",
       "      <td>East Asia &amp; Pacific (all income levels)</td>\n",
       "      <td>EAS</td>\n",
       "      <td>CO2 emissions (metric tons per capita)</td>\n",
       "      <td>EN.ATM.CO2E.PC</td>\n",
       "      <td>2011</td>\n",
       "      <td>5.859548</td>\n",
       "    </tr>\n",
       "    <tr>\n",
       "      <th>5028456</th>\n",
       "      <td>East Asia &amp; Pacific (developing only)</td>\n",
       "      <td>EAP</td>\n",
       "      <td>CO2 emissions (metric tons per capita)</td>\n",
       "      <td>EN.ATM.CO2E.PC</td>\n",
       "      <td>2011</td>\n",
       "      <td>5.302499</td>\n",
       "    </tr>\n",
       "  </tbody>\n",
       "</table>\n",
       "</div>"
      ],
      "text/plain": [
       "                                     CountryName CountryCode  \\\n",
       "5026275                               Arab World         ARB   \n",
       "5026788                   Caribbean small states         CSS   \n",
       "5027295           Central Europe and the Baltics         CEB   \n",
       "5027870  East Asia & Pacific (all income levels)         EAS   \n",
       "5028456    East Asia & Pacific (developing only)         EAP   \n",
       "\n",
       "                                  IndicatorName   IndicatorCode  Year  \\\n",
       "5026275  CO2 emissions (metric tons per capita)  EN.ATM.CO2E.PC  2011   \n",
       "5026788  CO2 emissions (metric tons per capita)  EN.ATM.CO2E.PC  2011   \n",
       "5027295  CO2 emissions (metric tons per capita)  EN.ATM.CO2E.PC  2011   \n",
       "5027870  CO2 emissions (metric tons per capita)  EN.ATM.CO2E.PC  2011   \n",
       "5028456  CO2 emissions (metric tons per capita)  EN.ATM.CO2E.PC  2011   \n",
       "\n",
       "            Value  \n",
       "5026275  4.724500  \n",
       "5026788  9.692960  \n",
       "5027295  6.911131  \n",
       "5027870  5.859548  \n",
       "5028456  5.302499  "
      ]
     },
     "execution_count": 4,
     "metadata": {},
     "output_type": "execute_result"
    }
   ],
   "source": [
    "# YOUR CODES\n",
    "\n",
    "#select CO2 emissions per capital for all countries in 2011\n",
    "\n",
    "req_indicator = 'CO2 emissions \\(metric'\n",
    "req_year = 2011\n",
    "\n",
    "IndName = world['IndicatorName'].str.contains(req_indicator) \n",
    "Reqyear = world['Year'].isin([req_year])\n",
    "\n",
    "# apply our mask\n",
    "Metric_2011 = world[IndName & Reqyear]\n",
    "Metric_2011.head()\n",
    "\n",
    "\n"
   ]
  },
  {
   "cell_type": "code",
   "execution_count": 10,
   "metadata": {},
   "outputs": [
    {
     "name": "stderr",
     "output_type": "stream",
     "text": [
      "C:\\Users\\Home Laptop\\Anaconda3\\lib\\site-packages\\ipykernel_launcher.py:13: MatplotlibDeprecationWarning: \n",
      "The 'normed' kwarg was deprecated in Matplotlib 2.1 and will be removed in 3.1. Use 'density' instead.\n",
      "  del sys.path[0]\n"
     ]
    },
    {
     "data": {
      "image/png": "[encoded data removed]",
      "text/plain": [
       "<Figure size 432x288 with 1 Axes>"
      ]
     },
     "metadata": {
      "needs_background": "light"
     },
     "output_type": "display_data"
    }
   ],
   "source": [
    "#plot a histogram of the emmissions per capita by country\n",
    "#indicate the position of USA in the plot\n",
    "\n",
    "fig, ax = plt.subplots()\n",
    "\n",
    "ax.annotate(\"USA\",\n",
    "            xy=(18, 5),\n",
    "            xytext=(20, 40),\n",
    "            arrowprops=dict(facecolor='black')\n",
    "            )\n",
    "            \n",
    "\n",
    "plt.hist(Metric_2011['Value'], 10, normed=False, facecolor='blue')\n",
    "\n",
    "plt.xlabel(new_df1['IndicatorName'].iloc[0])\n",
    "plt.ylabel('Number of Countries')\n",
    "plt.title('Histogram of CO2 Emissions Per Capita')\n",
    "\n",
    "#plt.axis([10, 22, 0, 14])\n",
    "plt.grid(True)\n",
    "\n",
    "plt.show()"
   ]
  },
  {
   "cell_type": "markdown",
   "metadata": {},
   "source": [
    "### ScatterPlot for comparing GDP against CO2 emissions (per capita) in USA"
   ]
  },
  {
   "cell_type": "markdown",
   "metadata": {},
   "source": [
    "**Q2.4** (20 points)\n",
    "\n",
    "- Select GDP Per capital for USA (Indicator = 'GDP per capita (constant 2005 US$)')\n",
    "- Use a scattor plot to explore the relationship between GDP and CO2 emissions\n",
    "\n",
    "Hint: before plotting, you have to make sure that the two measures cover the same period of time"
   ]
  },
  {
   "cell_type": "code",
   "execution_count": 10,
   "metadata": {},
   "outputs": [
    {
     "data": {
      "image/png": "[encoded data removed]",
      "text/plain": [
       "<Figure size 432x288 with 1 Axes>"
      ]
     },
     "metadata": {
      "needs_background": "light"
     },
     "output_type": "display_data"
    },
    {
     "data": {
      "image/png": "[encoded data removed]",
      "text/plain": [
       "<Figure size 432x288 with 1 Axes>"
      ]
     },
     "metadata": {
      "needs_background": "light"
     },
     "output_type": "display_data"
    }
   ],
   "source": [
    "# YOUR CODES\n",
    "\n",
    "\n",
    "new_df2 = world[(world['CountryName'] == 'United States') & (world['IndicatorName'] == 'GDP per capita (constant 2005 US$)')]\n",
    "new_df2.head()\n",
    "new_df2.plot(kind='scatter',x='Year',y='Value',color='green')\n",
    "new_df1.plot(kind='scatter',x='Year',y='Value',color='red')\n",
    "plt.title('ScatterPlot for comparing GDP against CO2 emissions (per capita) in USA')\n",
    "plt.show()\n"
   ]
  },
  {
   "cell_type": "markdown",
   "metadata": {},
   "source": [
    "## Part III: We are missing data (22 points)"
   ]
  },
  {
   "cell_type": "markdown",
   "metadata": {},
   "source": [
    "The above analyses have suggested that not all countries have all indicators for all years. Thus, let's pick indicators and countries which have data over the same time range"
   ]
  },
  {
   "cell_type": "code",
   "execution_count": 14,
   "metadata": {},
   "outputs": [],
   "source": [
    "# range of the three variables\n",
    "\n",
    "countries_list = world['CountryName'].unique().tolist()\n",
    "indicators_list = world['IndicatorName'].unique().tolist()\n",
    "\n",
    "yearfilter = range(2000,2012)"
   ]
  },
  {
   "cell_type": "markdown",
   "metadata": {},
   "source": [
    "**Q3.1** write a program to find **TWO** countries from **countries_list** and **ONE** indicator from **indicators_list** so that the selected two countries have records of the indicator from 2000 to 2011 (the time range is defined in **yearfilter**). (16 points)\n",
    "\n",
    "For example, both Bermuda and Costa Rica have records of the indicator \"Merchandise exports to developing economies outside region (% of total merchandise exports)\" from 2000 to 2011.\n",
    "\n",
    "Hint: https://pandas.pydata.org/pandas-docs/stable/reference/api/pandas.DataFrame.isin.html\n",
    "\n",
    "Expected output:\n",
    "- Two dataframe, indicating the two countries separately\n",
    "- The two dataframe only include data with the specific indicator\n",
    "- Both dataframe cover the same period of time from 2000 to 2011"
   ]
  },
  {
   "cell_type": "code",
   "execution_count": 11,
   "metadata": {},
   "outputs": [
    {
     "name": "stderr",
     "output_type": "stream",
     "text": [
      "C:\\Users\\Home Laptop\\Anaconda3\\lib\\site-packages\\ipykernel_launcher.py:15: UserWarning: Boolean Series key will be reindexed to match DataFrame index.\n",
      "  from ipykernel import kernelapp as app\n",
      "C:\\Users\\Home Laptop\\Anaconda3\\lib\\site-packages\\ipykernel_launcher.py:16: UserWarning: Boolean Series key will be reindexed to match DataFrame index.\n",
      "  app.launch_new_instance()\n"
     ]
    },
    {
     "name": "stdout",
     "output_type": "stream",
     "text": [
      "        CountryName CountryCode  \\\n",
      "3246521   Indonesia         IDN   \n",
      "3398820   Indonesia         IDN   \n",
      "3551438   Indonesia         IDN   \n",
      "3705674   Indonesia         IDN   \n",
      "3861067   Indonesia         IDN   \n",
      "4030691   Indonesia         IDN   \n",
      "4209180   Indonesia         IDN   \n",
      "4388007   Indonesia         IDN   \n",
      "4568333   Indonesia         IDN   \n",
      "4747484   Indonesia         IDN   \n",
      "4930359   Indonesia         IDN   \n",
      "5112067   Indonesia         IDN   \n",
      "5287729   Indonesia         IDN   \n",
      "\n",
      "                                             IndicatorName   IndicatorCode  \\\n",
      "3246521  Discrepancy in expenditure estimate of GDP (cu...  NY.GDP.DISC.CN   \n",
      "3398820  Discrepancy in expenditure estimate of GDP (cu...  NY.GDP.DISC.CN   \n",
      "3551438  Discrepancy in expenditure estimate of GDP (cu...  NY.GDP.DISC.CN   \n",
      "3705674  Discrepancy in expenditure estimate of GDP (cu...  NY.GDP.DISC.CN   \n",
      "3861067  Discrepancy in expenditure estimate of GDP (cu...  NY.GDP.DISC.CN   \n",
      "4030691  Discrepancy in expenditure estimate of GDP (cu...  NY.GDP.DISC.CN   \n",
      "4209180  Discrepancy in expenditure estimate of GDP (cu...  NY.GDP.DISC.CN   \n",
      "4388007  Discrepancy in expenditure estimate of GDP (cu...  NY.GDP.DISC.CN   \n",
      "4568333  Discrepancy in expenditure estimate of GDP (cu...  NY.GDP.DISC.CN   \n",
      "4747484  Discrepancy in expenditure estimate of GDP (cu...  NY.GDP.DISC.CN   \n",
      "4930359  Discrepancy in expenditure estimate of GDP (cu...  NY.GDP.DISC.CN   \n",
      "5112067  Discrepancy in expenditure estimate of GDP (cu...  NY.GDP.DISC.CN   \n",
      "5287729  Discrepancy in expenditure estimate of GDP (cu...  NY.GDP.DISC.CN   \n",
      "\n",
      "         Year         Value  \n",
      "3246521  2000 -1.314450e+13  \n",
      "3398820  2001 -1.398630e+13  \n",
      "3551438  2002 -4.699500e+13  \n",
      "3705674  2003 -1.853552e+14  \n",
      "3861067  2004 -8.767326e+13  \n",
      "4030691  2005 -4.716298e+13  \n",
      "4209180  2006 -7.041569e+13  \n",
      "4388007  2007 -3.364699e+13  \n",
      "4568333  2008  1.031085e+14  \n",
      "4747484  2009 -1.167909e+14  \n",
      "4930359  2010 -1.654963e+07  \n",
      "5112067  2011  4.616021e+12  \n",
      "5287729  2012 -2.718149e+13            CountryName CountryCode  \\\n",
      "3255332  Korea, Rep.         KOR   \n",
      "3407228  Korea, Rep.         KOR   \n",
      "3560220  Korea, Rep.         KOR   \n",
      "3714419  Korea, Rep.         KOR   \n",
      "3870125  Korea, Rep.         KOR   \n",
      "4040832  Korea, Rep.         KOR   \n",
      "4219055  Korea, Rep.         KOR   \n",
      "4398103  Korea, Rep.         KOR   \n",
      "4578346  Korea, Rep.         KOR   \n",
      "4757251  Korea, Rep.         KOR   \n",
      "4940647  Korea, Rep.         KOR   \n",
      "5121661  Korea, Rep.         KOR   \n",
      "5297288  Korea, Rep.         KOR   \n",
      "\n",
      "                                             IndicatorName   IndicatorCode  \\\n",
      "3255332  Discrepancy in expenditure estimate of GDP (cu...  NY.GDP.DISC.CN   \n",
      "3407228  Discrepancy in expenditure estimate of GDP (cu...  NY.GDP.DISC.CN   \n",
      "3560220  Discrepancy in expenditure estimate of GDP (cu...  NY.GDP.DISC.CN   \n",
      "3714419  Discrepancy in expenditure estimate of GDP (cu...  NY.GDP.DISC.CN   \n",
      "3870125  Discrepancy in expenditure estimate of GDP (cu...  NY.GDP.DISC.CN   \n",
      "4040832  Discrepancy in expenditure estimate of GDP (cu...  NY.GDP.DISC.CN   \n",
      "4219055  Discrepancy in expenditure estimate of GDP (cu...  NY.GDP.DISC.CN   \n",
      "4398103  Discrepancy in expenditure estimate of GDP (cu...  NY.GDP.DISC.CN   \n",
      "4578346  Discrepancy in expenditure estimate of GDP (cu...  NY.GDP.DISC.CN   \n",
      "4757251  Discrepancy in expenditure estimate of GDP (cu...  NY.GDP.DISC.CN   \n",
      "4940647  Discrepancy in expenditure estimate of GDP (cu...  NY.GDP.DISC.CN   \n",
      "5121661  Discrepancy in expenditure estimate of GDP (cu...  NY.GDP.DISC.CN   \n",
      "5297288  Discrepancy in expenditure estimate of GDP (cu...  NY.GDP.DISC.CN   \n",
      "\n",
      "         Year         Value  \n",
      "3255332  2000 -6.691000e+11  \n",
      "3407228  2001 -3.783000e+11  \n",
      "3560220  2002 -8.470000e+11  \n",
      "3714419  2003 -9.760000e+11  \n",
      "3870125  2004 -8.857000e+11  \n",
      "4040832  2005 -7.804000e+11  \n",
      "4219055  2006 -8.064000e+11  \n",
      "4398103  2007 -1.215000e+11  \n",
      "4578346  2008 -8.807000e+11  \n",
      "4757251  2009  2.988000e+11  \n",
      "4940647  2010  2.000000e+08  \n",
      "5121661  2011  2.400000e-01  \n",
      "5297288  2012 -2.000000e+08  \n"
     ]
    },
    {
     "data": {
      "text/plain": [
       "'\\nHints:\\n\\nStep 1: pick one indicator from the indicator_list (you can use loops or randomly draw from indicators_list)\\nStep 2: given the selected indicator, pick two countries that have records over the 12 years (2000-2011). \\n\\nYou can use loops (for or while) to repeat the above two steps until you find the satisfying countries and indicators. \\n'"
      ]
     },
     "execution_count": 11,
     "metadata": {},
     "output_type": "execute_result"
    }
   ],
   "source": [
    "import random\n",
    "random.seed(25) # generate the same random number every time\n",
    "\n",
    "# YOUR CODES\n",
    "\n",
    "import random\n",
    "countries_list = world['CountryName'].unique().tolist()\n",
    "indicators_list = world['IndicatorName'].unique().tolist()\n",
    "\n",
    "yearfilter = range(2000,2012)\n",
    "while True:\n",
    "    countries_selected= random.sample(countries_list, 2)\n",
    "    indicator_selected = random.sample(indicators_list, 1)\n",
    "    df = world[(world['IndicatorName'] == indicator_selected[0]) & (world['Year']>=2000) & (world['Year']<=2012)]\n",
    "    df1=df[(world['CountryName'] == countries_selected[0])]\n",
    "    df2=df[(world['CountryName'] == countries_selected[1])]\n",
    "    if df1.shape[0] == df2.shape[0] == 13:\n",
    "        print(df1,df2)\n",
    "        break\n",
    "\n",
    "\n",
    "'''\n",
    "Hints:\n",
    "\n",
    "Step 1: pick one indicator from the indicator_list (you can use loops or randomly draw from indicators_list)\n",
    "Step 2: given the selected indicator, pick two countries that have records over the 12 years (2000-2011). \n",
    "\n",
    "You can use loops (for or while) to repeat the above two steps until you find the satisfying countries and indicators. \n",
    "'''\n",
    "\n",
    "\n"
   ]
  },
  {
   "cell_type": "markdown",
   "metadata": {},
   "source": [
    "**Q3.2** Plot the correlation of the two countries with the selected indicator (scatter plots) (6 points)"
   ]
  },
  {
   "cell_type": "code",
   "execution_count": 12,
   "metadata": {},
   "outputs": [
    {
     "data": {
      "text/html": [
       "<div>\n",
       "<style scoped>\n",
       "    .dataframe tbody tr th:only-of-type {\n",
       "        vertical-align: middle;\n",
       "    }\n",
       "\n",
       "    .dataframe tbody tr th {\n",
       "        vertical-align: top;\n",
       "    }\n",
       "\n",
       "    .dataframe thead th {\n",
       "        text-align: right;\n",
       "    }\n",
       "</style>\n",
       "<table border=\"1\" class=\"dataframe\">\n",
       "  <thead>\n",
       "    <tr style=\"text-align: right;\">\n",
       "      <th></th>\n",
       "      <th>CountryName</th>\n",
       "      <th>CountryCode</th>\n",
       "      <th>IndicatorName</th>\n",
       "      <th>IndicatorCode</th>\n",
       "      <th>Year</th>\n",
       "      <th>Value</th>\n",
       "    </tr>\n",
       "  </thead>\n",
       "  <tbody>\n",
       "    <tr>\n",
       "      <th>3246521</th>\n",
       "      <td>Indonesia</td>\n",
       "      <td>IDN</td>\n",
       "      <td>Discrepancy in expenditure estimate of GDP (cu...</td>\n",
       "      <td>NY.GDP.DISC.CN</td>\n",
       "      <td>2000</td>\n",
       "      <td>-1.314450e+13</td>\n",
       "    </tr>\n",
       "    <tr>\n",
       "      <th>3398820</th>\n",
       "      <td>Indonesia</td>\n",
       "      <td>IDN</td>\n",
       "      <td>Discrepancy in expenditure estimate of GDP (cu...</td>\n",
       "      <td>NY.GDP.DISC.CN</td>\n",
       "      <td>2001</td>\n",
       "      <td>-1.398630e+13</td>\n",
       "    </tr>\n",
       "    <tr>\n",
       "      <th>3551438</th>\n",
       "      <td>Indonesia</td>\n",
       "      <td>IDN</td>\n",
       "      <td>Discrepancy in expenditure estimate of GDP (cu...</td>\n",
       "      <td>NY.GDP.DISC.CN</td>\n",
       "      <td>2002</td>\n",
       "      <td>-4.699500e+13</td>\n",
       "    </tr>\n",
       "    <tr>\n",
       "      <th>3705674</th>\n",
       "      <td>Indonesia</td>\n",
       "      <td>IDN</td>\n",
       "      <td>Discrepancy in expenditure estimate of GDP (cu...</td>\n",
       "      <td>NY.GDP.DISC.CN</td>\n",
       "      <td>2003</td>\n",
       "      <td>-1.853552e+14</td>\n",
       "    </tr>\n",
       "    <tr>\n",
       "      <th>3861067</th>\n",
       "      <td>Indonesia</td>\n",
       "      <td>IDN</td>\n",
       "      <td>Discrepancy in expenditure estimate of GDP (cu...</td>\n",
       "      <td>NY.GDP.DISC.CN</td>\n",
       "      <td>2004</td>\n",
       "      <td>-8.767326e+13</td>\n",
       "    </tr>\n",
       "    <tr>\n",
       "      <th>4030691</th>\n",
       "      <td>Indonesia</td>\n",
       "      <td>IDN</td>\n",
       "      <td>Discrepancy in expenditure estimate of GDP (cu...</td>\n",
       "      <td>NY.GDP.DISC.CN</td>\n",
       "      <td>2005</td>\n",
       "      <td>-4.716298e+13</td>\n",
       "    </tr>\n",
       "    <tr>\n",
       "      <th>4209180</th>\n",
       "      <td>Indonesia</td>\n",
       "      <td>IDN</td>\n",
       "      <td>Discrepancy in expenditure estimate of GDP (cu...</td>\n",
       "      <td>NY.GDP.DISC.CN</td>\n",
       "      <td>2006</td>\n",
       "      <td>-7.041569e+13</td>\n",
       "    </tr>\n",
       "    <tr>\n",
       "      <th>4388007</th>\n",
       "      <td>Indonesia</td>\n",
       "      <td>IDN</td>\n",
       "      <td>Discrepancy in expenditure estimate of GDP (cu...</td>\n",
       "      <td>NY.GDP.DISC.CN</td>\n",
       "      <td>2007</td>\n",
       "      <td>-3.364699e+13</td>\n",
       "    </tr>\n",
       "    <tr>\n",
       "      <th>4568333</th>\n",
       "      <td>Indonesia</td>\n",
       "      <td>IDN</td>\n",
       "      <td>Discrepancy in expenditure estimate of GDP (cu...</td>\n",
       "      <td>NY.GDP.DISC.CN</td>\n",
       "      <td>2008</td>\n",
       "      <td>1.031085e+14</td>\n",
       "    </tr>\n",
       "    <tr>\n",
       "      <th>4747484</th>\n",
       "      <td>Indonesia</td>\n",
       "      <td>IDN</td>\n",
       "      <td>Discrepancy in expenditure estimate of GDP (cu...</td>\n",
       "      <td>NY.GDP.DISC.CN</td>\n",
       "      <td>2009</td>\n",
       "      <td>-1.167909e+14</td>\n",
       "    </tr>\n",
       "    <tr>\n",
       "      <th>4930359</th>\n",
       "      <td>Indonesia</td>\n",
       "      <td>IDN</td>\n",
       "      <td>Discrepancy in expenditure estimate of GDP (cu...</td>\n",
       "      <td>NY.GDP.DISC.CN</td>\n",
       "      <td>2010</td>\n",
       "      <td>-1.654963e+07</td>\n",
       "    </tr>\n",
       "    <tr>\n",
       "      <th>5112067</th>\n",
       "      <td>Indonesia</td>\n",
       "      <td>IDN</td>\n",
       "      <td>Discrepancy in expenditure estimate of GDP (cu...</td>\n",
       "      <td>NY.GDP.DISC.CN</td>\n",
       "      <td>2011</td>\n",
       "      <td>4.616021e+12</td>\n",
       "    </tr>\n",
       "    <tr>\n",
       "      <th>5287729</th>\n",
       "      <td>Indonesia</td>\n",
       "      <td>IDN</td>\n",
       "      <td>Discrepancy in expenditure estimate of GDP (cu...</td>\n",
       "      <td>NY.GDP.DISC.CN</td>\n",
       "      <td>2012</td>\n",
       "      <td>-2.718149e+13</td>\n",
       "    </tr>\n",
       "  </tbody>\n",
       "</table>\n",
       "</div>"
      ],
      "text/plain": [
       "        CountryName CountryCode  \\\n",
       "3246521   Indonesia         IDN   \n",
       "3398820   Indonesia         IDN   \n",
       "3551438   Indonesia         IDN   \n",
       "3705674   Indonesia         IDN   \n",
       "3861067   Indonesia         IDN   \n",
       "4030691   Indonesia         IDN   \n",
       "4209180   Indonesia         IDN   \n",
       "4388007   Indonesia         IDN   \n",
       "4568333   Indonesia         IDN   \n",
       "4747484   Indonesia         IDN   \n",
       "4930359   Indonesia         IDN   \n",
       "5112067   Indonesia         IDN   \n",
       "5287729   Indonesia         IDN   \n",
       "\n",
       "                                             IndicatorName   IndicatorCode  \\\n",
       "3246521  Discrepancy in expenditure estimate of GDP (cu...  NY.GDP.DISC.CN   \n",
       "3398820  Discrepancy in expenditure estimate of GDP (cu...  NY.GDP.DISC.CN   \n",
       "3551438  Discrepancy in expenditure estimate of GDP (cu...  NY.GDP.DISC.CN   \n",
       "3705674  Discrepancy in expenditure estimate of GDP (cu...  NY.GDP.DISC.CN   \n",
       "3861067  Discrepancy in expenditure estimate of GDP (cu...  NY.GDP.DISC.CN   \n",
       "4030691  Discrepancy in expenditure estimate of GDP (cu...  NY.GDP.DISC.CN   \n",
       "4209180  Discrepancy in expenditure estimate of GDP (cu...  NY.GDP.DISC.CN   \n",
       "4388007  Discrepancy in expenditure estimate of GDP (cu...  NY.GDP.DISC.CN   \n",
       "4568333  Discrepancy in expenditure estimate of GDP (cu...  NY.GDP.DISC.CN   \n",
       "4747484  Discrepancy in expenditure estimate of GDP (cu...  NY.GDP.DISC.CN   \n",
       "4930359  Discrepancy in expenditure estimate of GDP (cu...  NY.GDP.DISC.CN   \n",
       "5112067  Discrepancy in expenditure estimate of GDP (cu...  NY.GDP.DISC.CN   \n",
       "5287729  Discrepancy in expenditure estimate of GDP (cu...  NY.GDP.DISC.CN   \n",
       "\n",
       "         Year         Value  \n",
       "3246521  2000 -1.314450e+13  \n",
       "3398820  2001 -1.398630e+13  \n",
       "3551438  2002 -4.699500e+13  \n",
       "3705674  2003 -1.853552e+14  \n",
       "3861067  2004 -8.767326e+13  \n",
       "4030691  2005 -4.716298e+13  \n",
       "4209180  2006 -7.041569e+13  \n",
       "4388007  2007 -3.364699e+13  \n",
       "4568333  2008  1.031085e+14  \n",
       "4747484  2009 -1.167909e+14  \n",
       "4930359  2010 -1.654963e+07  \n",
       "5112067  2011  4.616021e+12  \n",
       "5287729  2012 -2.718149e+13  "
      ]
     },
     "execution_count": 12,
     "metadata": {},
     "output_type": "execute_result"
    }
   ],
   "source": [
    "# YOUR CODES\n",
    "\n",
    "df1\n"
   ]
  },
  {
   "cell_type": "code",
   "execution_count": 14,
   "metadata": {},
   "outputs": [
    {
     "data": {
      "text/html": [
       "<div>\n",
       "<style scoped>\n",
       "    .dataframe tbody tr th:only-of-type {\n",
       "        vertical-align: middle;\n",
       "    }\n",
       "\n",
       "    .dataframe tbody tr th {\n",
       "        vertical-align: top;\n",
       "    }\n",
       "\n",
       "    .dataframe thead th {\n",
       "        text-align: right;\n",
       "    }\n",
       "</style>\n",
       "<table border=\"1\" class=\"dataframe\">\n",
       "  <thead>\n",
       "    <tr style=\"text-align: right;\">\n",
       "      <th></th>\n",
       "      <th>CountryName</th>\n",
       "      <th>CountryCode</th>\n",
       "      <th>IndicatorName</th>\n",
       "      <th>IndicatorCode</th>\n",
       "      <th>Year</th>\n",
       "      <th>Value</th>\n",
       "    </tr>\n",
       "  </thead>\n",
       "  <tbody>\n",
       "    <tr>\n",
       "      <th>3255332</th>\n",
       "      <td>Korea, Rep.</td>\n",
       "      <td>KOR</td>\n",
       "      <td>Discrepancy in expenditure estimate of GDP (cu...</td>\n",
       "      <td>NY.GDP.DISC.CN</td>\n",
       "      <td>2000</td>\n",
       "      <td>-6.691000e+11</td>\n",
       "    </tr>\n",
       "    <tr>\n",
       "      <th>3407228</th>\n",
       "      <td>Korea, Rep.</td>\n",
       "      <td>KOR</td>\n",
       "      <td>Discrepancy in expenditure estimate of GDP (cu...</td>\n",
       "      <td>NY.GDP.DISC.CN</td>\n",
       "      <td>2001</td>\n",
       "      <td>-3.783000e+11</td>\n",
       "    </tr>\n",
       "    <tr>\n",
       "      <th>3560220</th>\n",
       "      <td>Korea, Rep.</td>\n",
       "      <td>KOR</td>\n",
       "      <td>Discrepancy in expenditure estimate of GDP (cu...</td>\n",
       "      <td>NY.GDP.DISC.CN</td>\n",
       "      <td>2002</td>\n",
       "      <td>-8.470000e+11</td>\n",
       "    </tr>\n",
       "    <tr>\n",
       "      <th>3714419</th>\n",
       "      <td>Korea, Rep.</td>\n",
       "      <td>KOR</td>\n",
       "      <td>Discrepancy in expenditure estimate of GDP (cu...</td>\n",
       "      <td>NY.GDP.DISC.CN</td>\n",
       "      <td>2003</td>\n",
       "      <td>-9.760000e+11</td>\n",
       "    </tr>\n",
       "    <tr>\n",
       "      <th>3870125</th>\n",
       "      <td>Korea, Rep.</td>\n",
       "      <td>KOR</td>\n",
       "      <td>Discrepancy in expenditure estimate of GDP (cu...</td>\n",
       "      <td>NY.GDP.DISC.CN</td>\n",
       "      <td>2004</td>\n",
       "      <td>-8.857000e+11</td>\n",
       "    </tr>\n",
       "    <tr>\n",
       "      <th>4040832</th>\n",
       "      <td>Korea, Rep.</td>\n",
       "      <td>KOR</td>\n",
       "      <td>Discrepancy in expenditure estimate of GDP (cu...</td>\n",
       "      <td>NY.GDP.DISC.CN</td>\n",
       "      <td>2005</td>\n",
       "      <td>-7.804000e+11</td>\n",
       "    </tr>\n",
       "    <tr>\n",
       "      <th>4219055</th>\n",
       "      <td>Korea, Rep.</td>\n",
       "      <td>KOR</td>\n",
       "      <td>Discrepancy in expenditure estimate of GDP (cu...</td>\n",
       "      <td>NY.GDP.DISC.CN</td>\n",
       "      <td>2006</td>\n",
       "      <td>-8.064000e+11</td>\n",
       "    </tr>\n",
       "    <tr>\n",
       "      <th>4398103</th>\n",
       "      <td>Korea, Rep.</td>\n",
       "      <td>KOR</td>\n",
       "      <td>Discrepancy in expenditure estimate of GDP (cu...</td>\n",
       "      <td>NY.GDP.DISC.CN</td>\n",
       "      <td>2007</td>\n",
       "      <td>-1.215000e+11</td>\n",
       "    </tr>\n",
       "    <tr>\n",
       "      <th>4578346</th>\n",
       "      <td>Korea, Rep.</td>\n",
       "      <td>KOR</td>\n",
       "      <td>Discrepancy in expenditure estimate of GDP (cu...</td>\n",
       "      <td>NY.GDP.DISC.CN</td>\n",
       "      <td>2008</td>\n",
       "      <td>-8.807000e+11</td>\n",
       "    </tr>\n",
       "    <tr>\n",
       "      <th>4757251</th>\n",
       "      <td>Korea, Rep.</td>\n",
       "      <td>KOR</td>\n",
       "      <td>Discrepancy in expenditure estimate of GDP (cu...</td>\n",
       "      <td>NY.GDP.DISC.CN</td>\n",
       "      <td>2009</td>\n",
       "      <td>2.988000e+11</td>\n",
       "    </tr>\n",
       "    <tr>\n",
       "      <th>4940647</th>\n",
       "      <td>Korea, Rep.</td>\n",
       "      <td>KOR</td>\n",
       "      <td>Discrepancy in expenditure estimate of GDP (cu...</td>\n",
       "      <td>NY.GDP.DISC.CN</td>\n",
       "      <td>2010</td>\n",
       "      <td>2.000000e+08</td>\n",
       "    </tr>\n",
       "    <tr>\n",
       "      <th>5121661</th>\n",
       "      <td>Korea, Rep.</td>\n",
       "      <td>KOR</td>\n",
       "      <td>Discrepancy in expenditure estimate of GDP (cu...</td>\n",
       "      <td>NY.GDP.DISC.CN</td>\n",
       "      <td>2011</td>\n",
       "      <td>2.400000e-01</td>\n",
       "    </tr>\n",
       "    <tr>\n",
       "      <th>5297288</th>\n",
       "      <td>Korea, Rep.</td>\n",
       "      <td>KOR</td>\n",
       "      <td>Discrepancy in expenditure estimate of GDP (cu...</td>\n",
       "      <td>NY.GDP.DISC.CN</td>\n",
       "      <td>2012</td>\n",
       "      <td>-2.000000e+08</td>\n",
       "    </tr>\n",
       "  </tbody>\n",
       "</table>\n",
       "</div>"
      ],
      "text/plain": [
       "         CountryName CountryCode  \\\n",
       "3255332  Korea, Rep.         KOR   \n",
       "3407228  Korea, Rep.         KOR   \n",
       "3560220  Korea, Rep.         KOR   \n",
       "3714419  Korea, Rep.         KOR   \n",
       "3870125  Korea, Rep.         KOR   \n",
       "4040832  Korea, Rep.         KOR   \n",
       "4219055  Korea, Rep.         KOR   \n",
       "4398103  Korea, Rep.         KOR   \n",
       "4578346  Korea, Rep.         KOR   \n",
       "4757251  Korea, Rep.         KOR   \n",
       "4940647  Korea, Rep.         KOR   \n",
       "5121661  Korea, Rep.         KOR   \n",
       "5297288  Korea, Rep.         KOR   \n",
       "\n",
       "                                             IndicatorName   IndicatorCode  \\\n",
       "3255332  Discrepancy in expenditure estimate of GDP (cu...  NY.GDP.DISC.CN   \n",
       "3407228  Discrepancy in expenditure estimate of GDP (cu...  NY.GDP.DISC.CN   \n",
       "3560220  Discrepancy in expenditure estimate of GDP (cu...  NY.GDP.DISC.CN   \n",
       "3714419  Discrepancy in expenditure estimate of GDP (cu...  NY.GDP.DISC.CN   \n",
       "3870125  Discrepancy in expenditure estimate of GDP (cu...  NY.GDP.DISC.CN   \n",
       "4040832  Discrepancy in expenditure estimate of GDP (cu...  NY.GDP.DISC.CN   \n",
       "4219055  Discrepancy in expenditure estimate of GDP (cu...  NY.GDP.DISC.CN   \n",
       "4398103  Discrepancy in expenditure estimate of GDP (cu...  NY.GDP.DISC.CN   \n",
       "4578346  Discrepancy in expenditure estimate of GDP (cu...  NY.GDP.DISC.CN   \n",
       "4757251  Discrepancy in expenditure estimate of GDP (cu...  NY.GDP.DISC.CN   \n",
       "4940647  Discrepancy in expenditure estimate of GDP (cu...  NY.GDP.DISC.CN   \n",
       "5121661  Discrepancy in expenditure estimate of GDP (cu...  NY.GDP.DISC.CN   \n",
       "5297288  Discrepancy in expenditure estimate of GDP (cu...  NY.GDP.DISC.CN   \n",
       "\n",
       "         Year         Value  \n",
       "3255332  2000 -6.691000e+11  \n",
       "3407228  2001 -3.783000e+11  \n",
       "3560220  2002 -8.470000e+11  \n",
       "3714419  2003 -9.760000e+11  \n",
       "3870125  2004 -8.857000e+11  \n",
       "4040832  2005 -7.804000e+11  \n",
       "4219055  2006 -8.064000e+11  \n",
       "4398103  2007 -1.215000e+11  \n",
       "4578346  2008 -8.807000e+11  \n",
       "4757251  2009  2.988000e+11  \n",
       "4940647  2010  2.000000e+08  \n",
       "5121661  2011  2.400000e-01  \n",
       "5297288  2012 -2.000000e+08  "
      ]
     },
     "execution_count": 14,
     "metadata": {},
     "output_type": "execute_result"
    }
   ],
   "source": [
    "df2"
   ]
  },
  {
   "cell_type": "code",
   "execution_count": 15,
   "metadata": {},
   "outputs": [
    {
     "data": {
      "text/plain": [
       "<matplotlib.axes._subplots.AxesSubplot at 0x1ca8a00e3c8>"
      ]
     },
     "execution_count": 15,
     "metadata": {},
     "output_type": "execute_result"
    },
    {
     "data": {
      "image/png": "[encoded data removed]",
      "text/plain": [
       "<Figure size 432x288 with 1 Axes>"
      ]
     },
     "metadata": {
      "needs_background": "light"
     },
     "output_type": "display_data"
    },
    {
     "data": {
      "image/png": "[encoded data removed]",
      "text/plain": [
       "<Figure size 432x288 with 1 Axes>"
      ]
     },
     "metadata": {
      "needs_background": "light"
     },
     "output_type": "display_data"
    }
   ],
   "source": [
    "df1.plot(kind='scatter',x='Year',y='Value',color='green')\n",
    "df2.plot(kind='scatter',x='Year',y='Value',color='red')"
   ]
  },
  {
   "cell_type": "code",
   "execution_count": null,
   "metadata": {},
   "outputs": [],
   "source": []
  }
 ],
 "metadata": {
  "kernelspec": {
   "display_name": "Python 3",
   "language": "python",
   "name": "python3"
  },
  "language_info": {
   "codemirror_mode": {
    "name": "ipython",
    "version": 3
   },
   "file_extension": ".py",
   "mimetype": "text/x-python",
   "name": "python",
   "nbconvert_exporter": "python",
   "pygments_lexer": "ipython3",
   "version": "3.7.3"
  }
 },
 "nbformat": 4,
 "nbformat_minor": 2
}
